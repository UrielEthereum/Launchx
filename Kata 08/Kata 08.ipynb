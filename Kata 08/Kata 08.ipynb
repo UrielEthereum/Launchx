{
  "cells": [
    {
      "cell_type": "markdown",
      "metadata": {},
      "source": [
        "# Ejercicio 1: Creación de diccionarios de Python"
      ]
    },
    {
      "cell_type": "markdown",
      "metadata": {},
      "source": [
        "### Ejercicio 1:"
      ]
    },
    {
      "cell_type": "code",
      "execution_count": null,
      "metadata": {},
      "outputs": [],
      "source": [
        "# Crea un diccionario llamado planet con los datos propuestos\n",
        "\n",
        "planet = {\n",
        "    'name': 'Mars',\n",
        "    'moons': 2\n",
        "}"
      ]
    },
    {
      "cell_type": "code",
      "execution_count": null,
      "metadata": {},
      "outputs": [],
      "source": [
        "# Muestra el nombre del planeta y el número de lunas que tiene.\n",
        "\n",
        "print(f'{planet[\"name\"]} has {planet[\"moons\"]} moons')"
      ]
    },
    {
      "cell_type": "code",
      "execution_count": null,
      "metadata": {},
      "outputs": [],
      "source": [
        "# Agrega la clave circunferencia con los datos proporcionados previamente\n",
        "\n",
        "planet['circumference (km)'] = {\n",
        "    'polar': 6752,\n",
        "    'equatorial': 6792\n",
        "}"
      ]
    },
    {
      "cell_type": "code",
      "execution_count": null,
      "metadata": {},
      "outputs": [],
      "source": [
        "# Imprime el nombre del planeta con su circunferencia polar.\n",
        "\n",
        "print(f'{planet[\"name\"]} has a polar circumference of {planet[\"circumference (km)\"][\"polar\"]}')"
      ]
    },
    {
      "cell_type": "markdown",
      "metadata": {},
      "source": [
        "### Ejercicio 2"
      ]
    },
    {
      "cell_type": "code",
      "execution_count": null,
      "metadata": {},
      "outputs": [],
      "source": [
        "# Añade el código para determinar el número de lunas.\n",
        "\n",
        "# Obtenemos la lista de las lunas\n",
        "# Almacenamos los resultados en una variable moons\n",
        "moons = planet_moons.values()\n",
        "\n",
        "# Obtenemos el total de planetas\n",
        "# Almacenamos los resultados en una variable llamada years\n",
        "planets = len(planet_moons.keys())"
      ]
    },
    {
      "cell_type": "code",
      "execution_count": null,
      "metadata": {},
      "outputs": [],
      "source": [
        "# Calcula el total_moons agregando todas las lunas\n",
        "# Almacena su valor en una variable llamada total_moons\n",
        "\n",
        "total_moons = 0\n",
        "for moon in moons:\n",
        "    total_moons = total_moons + moon\n",
        "\n",
        "# Calcula el promedio dividiendo el total_moons por el número de planetas\n",
        "average = total_moons / planets\n",
        "\n",
        "# Muestra el promedio\n",
        "print(average)"
      ]
    }
  ],
  "metadata": {
    "interpreter": {
      "hash": "916dbcbb3f70747c44a77c7bcd40155683ae19c65e1c03b4aa3499c5328201f1"
    },
    "kernelspec": {
      "display_name": "Python 3.8.10 64-bit",
      "name": "python3"
    },
    "language_info": {
      "codemirror_mode": {
        "name": "ipython",
        "version": 3
      },
      "file_extension": ".py",
      "mimetype": "text/x-python",
      "name": "python",
      "nbconvert_exporter": "python",
      "pygments_lexer": "ipython3",
      "version": "3.9.5"
    },
    "nteract": {
      "version": "nteract-front-end@1.0.0"
    },
    "orig_nbformat": 4
  },
  "nbformat": 4,
  "nbformat_minor": 2
}
